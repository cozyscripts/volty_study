{
 "cells": [
  {
   "cell_type": "code",
   "execution_count": 6,
   "metadata": {},
   "outputs": [],
   "source": [
    "# Use Requests library to make url request to OptionStrat\n",
    "import requests\n",
    "# Use BeautifulSoup to parse HTML \n",
    "from bs4 import BeautifulSoup\n",
    "\n",
    "url = \"http://optionstrat.com/flow\"\n",
    "page = requests.get(url)\n",
    "\n",
    "soup = BeautifulSoup(page.content, 'html.parser')\n",
    "\n",
    "\n",
    "\n",
    "# Checking OptionStrat for bull/bear flows\n"
   ]
  },
  {
   "cell_type": "code",
   "execution_count": null,
   "metadata": {},
   "outputs": [],
   "source": [
    "soup\n"
   ]
  }
 ],
 "metadata": {
  "kernelspec": {
   "display_name": "Python 3.7.3 ('base')",
   "language": "python",
   "name": "python3"
  },
  "language_info": {
   "codemirror_mode": {
    "name": "ipython",
    "version": 3
   },
   "file_extension": ".py",
   "mimetype": "text/x-python",
   "name": "python",
   "nbconvert_exporter": "python",
   "pygments_lexer": "ipython3",
   "version": "3.7.3"
  },
  "orig_nbformat": 4,
  "vscode": {
   "interpreter": {
    "hash": "cbc7fd12e66ced6b01dc579724d9812d9cfa3c8f6f055bb3e5ef66565b86ca17"
   }
  }
 },
 "nbformat": 4,
 "nbformat_minor": 2
}
